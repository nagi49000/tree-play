{
 "cells": [
  {
   "cell_type": "markdown",
   "id": "4ca30d4c",
   "metadata": {},
   "source": [
    "# Machine learning - test harnesses and first algo"
   ]
  },
  {
   "cell_type": "code",
   "execution_count": 1,
   "id": "677f20af",
   "metadata": {},
   "outputs": [],
   "source": [
    "import pandas as pd\n",
    "import pylab\n",
    "import seaborn as sns\n",
    "import numpy as np\n",
    "import datetime\n",
    "import copy\n",
    "from sklearn.base import BaseEstimator, TransformerMixin\n",
    "from sklearn.tree import DecisionTreeRegressor"
   ]
  },
  {
   "cell_type": "code",
   "execution_count": 2,
   "id": "0e48cb28",
   "metadata": {},
   "outputs": [
    {
     "data": {
      "text/plain": [
       "348"
      ]
     },
     "execution_count": 2,
     "metadata": {},
     "output_type": "execute_result"
    }
   ],
   "source": [
    "import utils\n",
    "df = utils.get_data()\n",
    "len(df)"
   ]
  },
  {
   "cell_type": "code",
   "execution_count": 3,
   "id": "675663cd",
   "metadata": {
    "scrolled": true
   },
   "outputs": [
    {
     "data": {
      "text/html": [
       "<div>\n",
       "<style scoped>\n",
       "    .dataframe tbody tr th:only-of-type {\n",
       "        vertical-align: middle;\n",
       "    }\n",
       "\n",
       "    .dataframe tbody tr th {\n",
       "        vertical-align: top;\n",
       "    }\n",
       "\n",
       "    .dataframe thead th {\n",
       "        text-align: right;\n",
       "    }\n",
       "</style>\n",
       "<table border=\"1\" class=\"dataframe\">\n",
       "  <thead>\n",
       "    <tr style=\"text-align: right;\">\n",
       "      <th></th>\n",
       "      <th>month</th>\n",
       "      <th>temp_2</th>\n",
       "      <th>temp_1</th>\n",
       "      <th>average</th>\n",
       "      <th>actual</th>\n",
       "      <th>forecast_noaa</th>\n",
       "      <th>forecast_acc</th>\n",
       "      <th>forecast_under</th>\n",
       "      <th>friend</th>\n",
       "      <th>week_Fri</th>\n",
       "      <th>week_Mon</th>\n",
       "      <th>week_Sat</th>\n",
       "      <th>week_Sun</th>\n",
       "      <th>week_Thurs</th>\n",
       "      <th>week_Tues</th>\n",
       "      <th>week_Wed</th>\n",
       "      <th>unix_days</th>\n",
       "    </tr>\n",
       "  </thead>\n",
       "  <tbody>\n",
       "    <tr>\n",
       "      <th>0</th>\n",
       "      <td>1</td>\n",
       "      <td>45</td>\n",
       "      <td>45</td>\n",
       "      <td>45.6</td>\n",
       "      <td>45</td>\n",
       "      <td>43</td>\n",
       "      <td>50</td>\n",
       "      <td>44</td>\n",
       "      <td>29</td>\n",
       "      <td>1</td>\n",
       "      <td>0</td>\n",
       "      <td>0</td>\n",
       "      <td>0</td>\n",
       "      <td>0</td>\n",
       "      <td>0</td>\n",
       "      <td>0</td>\n",
       "      <td>735963</td>\n",
       "    </tr>\n",
       "    <tr>\n",
       "      <th>1</th>\n",
       "      <td>1</td>\n",
       "      <td>44</td>\n",
       "      <td>45</td>\n",
       "      <td>45.7</td>\n",
       "      <td>44</td>\n",
       "      <td>41</td>\n",
       "      <td>50</td>\n",
       "      <td>44</td>\n",
       "      <td>61</td>\n",
       "      <td>0</td>\n",
       "      <td>0</td>\n",
       "      <td>1</td>\n",
       "      <td>0</td>\n",
       "      <td>0</td>\n",
       "      <td>0</td>\n",
       "      <td>0</td>\n",
       "      <td>735964</td>\n",
       "    </tr>\n",
       "    <tr>\n",
       "      <th>2</th>\n",
       "      <td>1</td>\n",
       "      <td>45</td>\n",
       "      <td>44</td>\n",
       "      <td>45.8</td>\n",
       "      <td>41</td>\n",
       "      <td>43</td>\n",
       "      <td>46</td>\n",
       "      <td>47</td>\n",
       "      <td>56</td>\n",
       "      <td>0</td>\n",
       "      <td>0</td>\n",
       "      <td>0</td>\n",
       "      <td>1</td>\n",
       "      <td>0</td>\n",
       "      <td>0</td>\n",
       "      <td>0</td>\n",
       "      <td>735965</td>\n",
       "    </tr>\n",
       "    <tr>\n",
       "      <th>3</th>\n",
       "      <td>1</td>\n",
       "      <td>44</td>\n",
       "      <td>41</td>\n",
       "      <td>45.9</td>\n",
       "      <td>40</td>\n",
       "      <td>44</td>\n",
       "      <td>48</td>\n",
       "      <td>46</td>\n",
       "      <td>53</td>\n",
       "      <td>0</td>\n",
       "      <td>1</td>\n",
       "      <td>0</td>\n",
       "      <td>0</td>\n",
       "      <td>0</td>\n",
       "      <td>0</td>\n",
       "      <td>0</td>\n",
       "      <td>735966</td>\n",
       "    </tr>\n",
       "    <tr>\n",
       "      <th>4</th>\n",
       "      <td>1</td>\n",
       "      <td>41</td>\n",
       "      <td>40</td>\n",
       "      <td>46.0</td>\n",
       "      <td>44</td>\n",
       "      <td>46</td>\n",
       "      <td>46</td>\n",
       "      <td>46</td>\n",
       "      <td>41</td>\n",
       "      <td>0</td>\n",
       "      <td>0</td>\n",
       "      <td>0</td>\n",
       "      <td>0</td>\n",
       "      <td>0</td>\n",
       "      <td>1</td>\n",
       "      <td>0</td>\n",
       "      <td>735967</td>\n",
       "    </tr>\n",
       "  </tbody>\n",
       "</table>\n",
       "</div>"
      ],
      "text/plain": [
       "   month  temp_2  temp_1  average  actual  forecast_noaa  forecast_acc  \\\n",
       "0      1      45      45     45.6      45             43            50   \n",
       "1      1      44      45     45.7      44             41            50   \n",
       "2      1      45      44     45.8      41             43            46   \n",
       "3      1      44      41     45.9      40             44            48   \n",
       "4      1      41      40     46.0      44             46            46   \n",
       "\n",
       "   forecast_under  friend  week_Fri  week_Mon  week_Sat  week_Sun  week_Thurs  \\\n",
       "0              44      29         1         0         0         0           0   \n",
       "1              44      61         0         0         1         0           0   \n",
       "2              47      56         0         0         0         1           0   \n",
       "3              46      53         0         1         0         0           0   \n",
       "4              46      41         0         0         0         0           0   \n",
       "\n",
       "   week_Tues  week_Wed  unix_days  \n",
       "0          0         0     735963  \n",
       "1          0         0     735964  \n",
       "2          0         0     735965  \n",
       "3          0         0     735966  \n",
       "4          1         0     735967  "
      ]
     },
     "execution_count": 3,
     "metadata": {},
     "output_type": "execute_result"
    }
   ],
   "source": [
    "df.head()"
   ]
  },
  {
   "cell_type": "markdown",
   "id": "87e81609",
   "metadata": {},
   "source": [
    "### Build test harnesses\n",
    "\n",
    "Build a test harness for toy problem of predicting. Cross validation as and regression scoring as a function in utils; shuffles X and y, performs cross validation with negative mean absolute error scoring."
   ]
  },
  {
   "cell_type": "code",
   "execution_count": 4,
   "id": "0a06babc",
   "metadata": {},
   "outputs": [
    {
     "name": "stdout",
     "output_type": "stream",
     "text": [
      "(348, 12)\n",
      "(348,)\n"
     ]
    }
   ],
   "source": [
    "X = np.array(df[[\"month\", \"temp_2\", \"temp_1\", \"average\", \"week_Fri\", \"week_Mon\", \"week_Sat\", \"week_Sun\", \"week_Thurs\", \"week_Tues\", \"week_Wed\", \"unix_days\"]])\n",
    "y = np.array(df[\"actual\"])\n",
    "print(X.shape)\n",
    "print(y.shape)"
   ]
  },
  {
   "cell_type": "code",
   "execution_count": 5,
   "id": "586a8870",
   "metadata": {},
   "outputs": [],
   "source": [
    "class UseAverageOnly(BaseEstimator, TransformerMixin):\n",
    "    def __init__(self):\n",
    "        pass\n",
    "    \n",
    "    def fit(self, X, y=None):\n",
    "        return self\n",
    "    \n",
    "    def predict(self, X, y=None):\n",
    "        # assume the average is the 3rd column (0-indexed), and use that as the prediction\n",
    "        return copy.deepcopy(X[:,3])\n",
    "        "
   ]
  },
  {
   "cell_type": "code",
   "execution_count": 6,
   "id": "a2f0f65b",
   "metadata": {},
   "outputs": [
    {
     "name": "stdout",
     "output_type": "stream",
     "text": [
      "(array([-4.94285714, -5.81857143, -4.76      , -3.84637681, -5.28695652]), -4.930952380952382)\n"
     ]
    }
   ],
   "source": [
    "clf = UseAverageOnly()\n",
    "import utils\n",
    "scores = utils.get_cross_val_scores(clf, X, y, 5)\n",
    "print((scores, np.mean(scores)))"
   ]
  },
  {
   "cell_type": "markdown",
   "id": "cb6139c5",
   "metadata": {},
   "source": [
    "Baseline has a mean absolute error of around 5 Farenheit."
   ]
  },
  {
   "cell_type": "markdown",
   "id": "708311b4",
   "metadata": {},
   "source": [
    "### Decision Tree\n",
    "Starting with the simplest tree example, which is a single decision tree, and use it for regression."
   ]
  },
  {
   "cell_type": "code",
   "execution_count": 7,
   "id": "a43c8df4",
   "metadata": {},
   "outputs": [
    {
     "name": "stdout",
     "output_type": "stream",
     "text": [
      "(array([-4.45714286, -4.78571429, -5.34285714, -4.56521739, -4.69565217]), -4.769316770186335)\n"
     ]
    }
   ],
   "source": [
    "decision_tree_regr = DecisionTreeRegressor()\n",
    "scores = utils.get_cross_val_scores(decision_tree_regr, X, y, 5)\n",
    "print((scores, np.mean(scores)))"
   ]
  },
  {
   "cell_type": "markdown",
   "id": "de98062e",
   "metadata": {},
   "source": [
    "The out-of-the-box hyperparams do not fair much better than the Baseline above. Reducing the tree complexity (which presmuably relates to pure overfit) seems to give mean-abs-errors around 4 Farenheit. Tweaking args of min_samples_leaf or max_leaf_nodes has a similar effect; although min_samples_leaf seems to work a little better."
   ]
  },
  {
   "cell_type": "code",
   "execution_count": 8,
   "id": "ba680927",
   "metadata": {},
   "outputs": [
    {
     "name": "stdout",
     "output_type": "stream",
     "text": [
      "(array([-4.17103725, -3.70105337, -4.4557847 , -3.56995331, -3.82159773]), -3.9438852703839187)\n"
     ]
    }
   ],
   "source": [
    "decision_tree_regr = DecisionTreeRegressor(\n",
    "    min_samples_leaf=15,\n",
    ")\n",
    "scores = utils.get_cross_val_scores(decision_tree_regr, X, y, 5)\n",
    "print((scores, np.mean(scores)))"
   ]
  },
  {
   "cell_type": "code",
   "execution_count": 9,
   "id": "3697f66d",
   "metadata": {},
   "outputs": [
    {
     "name": "stdout",
     "output_type": "stream",
     "text": [
      "(array([-3.60017311, -3.98603489, -4.12141484, -4.21285926, -4.57421195]), -4.098938809000941)\n"
     ]
    }
   ],
   "source": [
    "decision_tree_regr = DecisionTreeRegressor(\n",
    "    max_leaf_nodes=14,\n",
    ")\n",
    "scores = utils.get_cross_val_scores(decision_tree_regr, X, y, 5)\n",
    "print((scores, np.mean(scores)))"
   ]
  },
  {
   "cell_type": "markdown",
   "id": "7a08cbff",
   "metadata": {},
   "source": [
    "A similar effect on the mean-abs-error can also be achieved by switching on minimal cost-complexity pruning."
   ]
  },
  {
   "cell_type": "code",
   "execution_count": 10,
   "id": "4ead42cc",
   "metadata": {},
   "outputs": [
    {
     "name": "stdout",
     "output_type": "stream",
     "text": [
      "(array([-4.25716457, -3.86460855, -3.85724279, -4.34808314, -4.20478356]), -4.106376521335809)\n"
     ]
    }
   ],
   "source": [
    "decision_tree_regr = DecisionTreeRegressor(\n",
    "    ccp_alpha=0.4\n",
    ")\n",
    "scores = utils.get_cross_val_scores(decision_tree_regr, X, y, 5)\n",
    "print((scores, np.mean(scores)))"
   ]
  }
 ],
 "metadata": {
  "kernelspec": {
   "display_name": "Python 3 (ipykernel)",
   "language": "python",
   "name": "python3"
  },
  "language_info": {
   "codemirror_mode": {
    "name": "ipython",
    "version": 3
   },
   "file_extension": ".py",
   "mimetype": "text/x-python",
   "name": "python",
   "nbconvert_exporter": "python",
   "pygments_lexer": "ipython3",
   "version": "3.10.2"
  }
 },
 "nbformat": 4,
 "nbformat_minor": 5
}
