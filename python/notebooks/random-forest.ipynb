{
 "cells": [
  {
   "cell_type": "markdown",
   "id": "596d9b6e",
   "metadata": {},
   "source": [
    "# Random Forest\n",
    "Moving to a more sophisticated tree example, using Random Forests for regression.\n",
    "### Lab prep"
   ]
  },
  {
   "cell_type": "code",
   "execution_count": 4,
   "id": "4b012a19",
   "metadata": {},
   "outputs": [],
   "source": [
    "import pandas as pd\n",
    "import pylab\n",
    "import seaborn as sns\n",
    "import numpy as np\n",
    "import datetime\n",
    "import copy\n",
    "from sklearn.base import BaseEstimator, TransformerMixin\n",
    "from sklearn.ensemble import RandomForestRegressor"
   ]
  },
  {
   "cell_type": "code",
   "execution_count": 2,
   "id": "c47ee951",
   "metadata": {},
   "outputs": [
    {
     "data": {
      "text/plain": [
       "348"
      ]
     },
     "execution_count": 2,
     "metadata": {},
     "output_type": "execute_result"
    }
   ],
   "source": [
    "import utils\n",
    "df = utils.get_data()\n",
    "len(df)"
   ]
  },
  {
   "cell_type": "code",
   "execution_count": 6,
   "id": "008a74c6",
   "metadata": {},
   "outputs": [
    {
     "name": "stdout",
     "output_type": "stream",
     "text": [
      "(348, 12)\n",
      "(348,)\n"
     ]
    }
   ],
   "source": [
    "X = np.array(df[[\"month\", \"temp_2\", \"temp_1\", \"average\", \"week_Fri\", \"week_Mon\", \"week_Sat\", \"week_Sun\", \"week_Thurs\", \"week_Tues\", \"week_Wed\", \"unix_days\"]])\n",
    "y = np.array(df[\"actual\"])\n",
    "print(X.shape)\n",
    "print(y.shape)"
   ]
  },
  {
   "cell_type": "markdown",
   "id": "b7ac0a23",
   "metadata": {},
   "source": [
    "### Random Forest\n",
    "From looking at the average in the dataset, and the performance of decision trees, the baseline was a mean abs error of 5 Farenheit, and a tuned decision tree gave a mean abs error of just below 4 Farenheit. The out-of-the-box params for a Random Forest gives a mean abs error of just below 4 Farenheit."
   ]
  },
  {
   "cell_type": "code",
   "execution_count": 10,
   "id": "de0434e1",
   "metadata": {},
   "outputs": [
    {
     "name": "stdout",
     "output_type": "stream",
     "text": [
      "(array([-3.489     , -3.75      , -4.01571429, -3.57173913, -4.04637681]), -3.7745660455486543)\n"
     ]
    }
   ],
   "source": [
    "regr = RandomForestRegressor()\n",
    "scores = utils.get_cross_val_scores(regr, X, y, 5)\n",
    "print((scores, np.mean(scores)))"
   ]
  },
  {
   "cell_type": "markdown",
   "id": "f17668fe",
   "metadata": {},
   "source": [
    "Tweaking the default parameters does not seem to dramatically improve results, although parameters can be tweaked to reduce runtime (reducing n_estimators from the default of 100) for faster run times. This would be handy for grid-search parameter tuning."
   ]
  },
  {
   "cell_type": "code",
   "execution_count": 323,
   "id": "363abaf0",
   "metadata": {},
   "outputs": [
    {
     "name": "stdout",
     "output_type": "stream",
     "text": [
      "(array([-3.83492664, -3.51561701, -3.2848083 , -3.69237525, -4.02723049]), -3.6709915397548927)\n"
     ]
    }
   ],
   "source": [
    "regr = RandomForestRegressor(\n",
    "    n_estimators=20,\n",
    "    max_depth=None,\n",
    "    min_samples_split=2,\n",
    "    min_samples_leaf=15,\n",
    "    max_features=\"auto\",\n",
    "    max_leaf_nodes=12,\n",
    "    ccp_alpha=0.0,\n",
    "    max_samples=None\n",
    ")\n",
    "scores = utils.get_cross_val_scores(regr, X, y, 5)\n",
    "print((scores, np.mean(scores)))"
   ]
  }
 ],
 "metadata": {
  "kernelspec": {
   "display_name": "Python 3 (ipykernel)",
   "language": "python",
   "name": "python3"
  },
  "language_info": {
   "codemirror_mode": {
    "name": "ipython",
    "version": 3
   },
   "file_extension": ".py",
   "mimetype": "text/x-python",
   "name": "python",
   "nbconvert_exporter": "python",
   "pygments_lexer": "ipython3",
   "version": "3.10.2"
  }
 },
 "nbformat": 4,
 "nbformat_minor": 5
}
